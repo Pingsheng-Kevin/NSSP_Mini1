{
 "cells": [
  {
   "cell_type": "markdown",
   "id": "4284bfa0",
   "metadata": {},
   "source": [
    "![banner](/custom/banner.png)\n",
    "\n",
    "\n",
    "# FSLeyes Jupyter notebook\n",
    "\n",
    "\n",
    "## Help\n",
    "\n",
    "\n",
    "Use the built-in `help` function to get help on anything in the shell\n",
    "environment, whether it is a module, function, class, or object:\n",
    "\n",
    "    help(load)\n",
    "\n",
    "\n",
    "\n",
    "## Overlays\n",
    "\n",
    "\n",
    "The `overlayList` is a list which contains all of the overlays that have been\n",
    "loaded into FSLeyes.  You can load overlays by using the `load` function,\n",
    "e.g.:\n",
    "\n",
    "    std = load('MNI152_T1_2mm.nii.gz')\n",
    "\n",
    "\n",
    "You can remove an overlay simply by removing it from the `overlayList`:\n",
    "\n",
    "    del overlayList[0]\n",
    "\n",
    "\n",
    "## Display settings\n",
    "\n",
    "\n",
    "You can use the `displayCtx` to access the display settings for an\n",
    "overlay. Display settings for an overlay are divided between two objects:\n",
    "\n",
    " - A `Display` object, which contains general display settings\n",
    " - A `DisplayOpts` object, which contains display settings specific to the\n",
    "   overlay type\n",
    "\n",
    "\n",
    "You can access these objects like so:\n",
    "\n",
    "    overlay = overlayList[0]\n",
    "    display = displayCtx.getDisplay(overlay)\n",
    "    opts    = displayCtx.getOpts(   overlay)\n",
    "\n",
    "\n",
    "Then adjusting the overlay display settings is easy:\n",
    "\n",
    "\n",
    "    display.brightness = 75\n",
    "    opts.cmap          = 'hot'\n",
    "\n",
    "\n",
    "## FSL commands\n",
    "\n",
    "\n",
    "Many FSL commands can be called through Python functions, e.g.:\n",
    "\n",
    "    flirt('src.nii.gz', 'ref.nii.gz', applyxfm=True, init='src2ref.mat')\n",
    "\n",
    "\n",
    "For commands which produce output images, you can have the outputs loaded\n",
    "directly into FSLeyes by using the special `LOAD` symbol:\n",
    "\n",
    "    struc = Image('struct.nii.gz')\n",
    "    bet(struc, LOAD)\n",
    "\n",
    "\n",
    "To submit a command as a cluster job, use the `submit` flag:\n",
    "\n",
    "    fnirt('src.nii.gz', 'ref.nii.gz', submit=True)\n",
    "\n",
    "\n",
    "## User interface\n",
    "\n",
    "\n",
    "You can access the current views in FSLeyes through the ``frame`` object:\n",
    "\n",
    "    ortho = frame.viewPanels[0]\n",
    "\n",
    "\n",
    "You also can add/remove views through the ``frame``:\n",
    "\n",
    "\n",
    "    frame.removeViewPanel(ortho)\n",
    "    frame.addViewPanel(Scene3DPanel)\n",
    "\n",
    "\n",
    "## Screenshots\n",
    "\n",
    "\n",
    "To insert a screenshot of the currently displayed scene into the notebook, use\n",
    "the `screenshot` function:\n",
    "\n",
    "    ortho = frame.viewPanels[0]\n",
    "    screenshot(ortho)\n",
    "\n",
    "\n",
    "## Reproducing a scene\n",
    "\n",
    "\n",
    "The `getState` function returns a string which describes the current FSLeyes\n",
    "state. This string describes the current FSLeyes user interface (views,\n",
    "controls, and toolbars) as well as all loaded overlays and their display\n",
    "settings.\n",
    "\n",
    "\n",
    "You can also use the `setState` function to reproduce a previously generated\n",
    "FSLeyes state.\n",
    "\n",
    "\n",
    "To make your notebook reproduce your FSLeyes setup, set up your user interface\n",
    "and overlays how you want, and then call `getState` to get a description of\n",
    "the current FSLeyes setup:\n",
    "\n",
    "\n",
    "    getState()\n",
    "\n",
    "\n",
    "Now copy the string that `getState` generates, and then at the top of your\n",
    "notebook add a call to `setState`, passing in that string, e.g.:\n",
    "\n",
    "    fsleyesState = 'OrthoPanel\\nlayout2|name=OrthoPanel 1;caption=...'\n",
    "    setState(fsleyesState)\n",
    "\n",
    "\n",
    "## For more information\n",
    "\n",
    "See the FSLeyes and `fslpy` API documentation:\n",
    "\n",
    " - https://open.win.ox.ac.uk/pages/fsl/fsleyes/fsleyes/apidoc/\n",
    " - https://open.win.ox.ac.uk/pages/fsl/fslpy/"
   ]
  },
  {
   "cell_type": "code",
   "execution_count": 6,
   "id": "28c8f4e5",
   "metadata": {},
   "outputs": [],
   "source": [
    "# General purpose imports to handle paths, files etc\n",
    "import os\n",
    "import os.path as op\n",
    "import glob\n",
    "import pandas as pd\n",
    "import numpy as np\n",
    "import json\n",
    "\n",
    "\n",
    "# Useful functions to define and import datasets from open neuro\n",
    "import openneuro\n",
    "from mne.datasets import sample\n",
    "from mne_bids import BIDSPath, read_raw_bids, print_dir_tree, make_report\n",
    "\n",
    "\n",
    "# Useful imports to define the direct download function below\n",
    "import requests\n",
    "import urllib.request\n",
    "from tqdm import tqdm\n",
    "\n",
    "\n",
    "# FSL function wrappers which we will call from python directly\n",
    "from fsl.wrappers import fast, bet\n",
    "from fsl.wrappers.misc import fslroi\n",
    "from fsl.wrappers import flirt\n",
    "\n",
    "\n",
    "\n",
    "def reset_overlays():\n",
    "    \"\"\"\n",
    "    Clears view and completely remove visualization. All files opened in FSLeyes are closed.\n",
    "    The view (along with any color map) is reset to the regular ortho panel.\n",
    "    \"\"\"\n",
    "    l = frame.overlayList\n",
    "    while(len(l)>0):\n",
    "        del l[0]\n",
    "    frame.removeViewPanel(frame.viewPanels[0])\n",
    "    # Put back an ortho panel in our viz for future displays\n",
    "    frame.addViewPanel(OrthoPanel)\n",
    "    \n",
    "def mkdir_no_exist(path):\n",
    "    if not op.isdir(path):\n",
    "        os.makedirs(path)\n",
    "        \n",
    "class DownloadProgressBar(tqdm):\n",
    "    def update_to(self, b=1, bsize=1, tsize=None):\n",
    "        if tsize is not None:\n",
    "            self.total = tsize\n",
    "        self.update(b * bsize - self.n)\n",
    "\n",
    "\n",
    "def download_url(url, output_path):\n",
    "    with DownloadProgressBar(unit='B', unit_scale=True,\n",
    "                             miniters=1, desc=url.split('/')[-1]) as t:\n",
    "        urllib.request.urlretrieve(url, filename=output_path, reporthook=t.update_to)\n",
    "\n",
    "def direct_file_download_open_neuro(file_list, file_types, dataset_id, dataset_version, save_dirs):\n",
    "    # https://openneuro.org/crn/datasets/ds004226/snapshots/1.0.0/files/sub-001:sub-001_scans.tsv\n",
    "    for i, n in enumerate(file_list):\n",
    "        subject = n.split('_')[0]\n",
    "        download_link = 'https://openneuro.org/crn/datasets/{}/snapshots/{}/files/{}:{}:{}'.format(dataset_id, dataset_version, subject, file_types[i],n)\n",
    "        print('Attempting download from ', download_link)\n",
    "        download_url(download_link, op.join(save_dirs[i], n))\n",
    "        print('Ok')\n",
    "        \n",
    "def get_json_from_file(fname):\n",
    "    f = open(fname)\n",
    "    data = json.load(f)\n",
    "    f.close()\n",
    "    return data"
   ]
  },
  {
   "cell_type": "code",
   "execution_count": 13,
   "id": "22f6b6df",
   "metadata": {},
   "outputs": [],
   "source": [
    "epi1 = 'sub-06_task-flanker_run-1_bold.nii.gz'\n",
    "epi2 = 'sub-06_task-flanker_run-2_bold.nii.gz'\n"
   ]
  },
  {
   "cell_type": "code",
   "execution_count": 9,
   "id": "bf1f81cc",
   "metadata": {},
   "outputs": [],
   "source": [
    "dataset_id = 'ds000102'\n",
    "subject = '06' \n",
    "\n",
    "# Download one subject's data from each dataset\n",
    "sample_path = \"dataset\"\n",
    "mkdir_no_exist(sample_path)\n",
    "bids_root = op.join(os.path.abspath(\"\"),sample_path, dataset_id)\n",
    "deriv_root = op.join(bids_root, 'derivatives')\n",
    "preproc_root = op.join(bids_root, 'derivatives','preprocessed_data')\n",
    "\n",
    "mkdir_no_exist(bids_root)"
   ]
  },
  {
   "cell_type": "code",
   "execution_count": 11,
   "id": "6f1841e9",
   "metadata": {},
   "outputs": [
    {
     "name": "stdout",
     "output_type": "stream",
     "text": [
      "|ds000102/\n",
      "|--- CHANGES\n",
      "|--- README\n",
      "|--- dataset_description.json\n",
      "|--- participants.tsv\n",
      "|--- sub-06/\n",
      "|------ anat/\n",
      "|--------- sub-06_T1w.nii.gz\n",
      "|------ func/\n",
      "|--------- sub-06_task-flanker_run-1_bold.nii.gz\n",
      "|--------- sub-06_task-flanker_run-2_bold.nii.gz\n"
     ]
    }
   ],
   "source": [
    "print_dir_tree(bids_root, max_depth=4)"
   ]
  },
  {
   "cell_type": "code",
   "execution_count": null,
   "id": "b10a1303",
   "metadata": {},
   "outputs": [],
   "source": []
  },
  {
   "cell_type": "code",
   "execution_count": 10,
   "id": "2650910c",
   "metadata": {},
   "outputs": [
    {
     "data": {
      "text/plain": [
       "0"
      ]
     },
     "execution_count": 10,
     "metadata": {},
     "output_type": "execute_result"
    }
   ],
   "source": [
    "os.system(\"\"\"openneuro-py download --dataset {} --include sub-{}/anat/* \n",
    "          --include sub-{}/func/sub-{}_task-flanker_run-1_bold.nii.gz \n",
    "          --include sub-{}/func/sub-{}_task-flanker_run-2_bold.nii.gz \n",
    "          --target_dir {}\"\"\".format(dataset_id, subject, subject, subject, subject, subject, bids_root).replace(\"\\n\", \" \"))"
   ]
  },
  {
   "cell_type": "markdown",
   "id": "ef442dfb",
   "metadata": {},
   "source": [
    "# Part.1 Visualisation "
   ]
  },
  {
   "cell_type": "markdown",
   "id": "6b942f66",
   "metadata": {},
   "source": [
    "## Anatomical "
   ]
  },
  {
   "cell_type": "code",
   "execution_count": 15,
   "id": "e8837214",
   "metadata": {},
   "outputs": [
    {
     "data": {
      "text/plain": [
       "Image(sub-06_T1w, /home/francio/Desktop/MyFiles/NSSP_Mini1/dataset/ds000102/sub-06/anat/sub-06_T1w.nii.gz)"
      ]
     },
     "execution_count": 15,
     "metadata": {},
     "output_type": "execute_result"
    }
   ],
   "source": [
    "reset_overlays()\n",
    "load(op.join(bids_root, 'sub-06', 'anat', 'sub-06_T1w.nii.gz'))"
   ]
  },
  {
   "cell_type": "markdown",
   "id": "72836c59",
   "metadata": {},
   "source": [
    "## Functional\n"
   ]
  },
  {
   "cell_type": "code",
   "execution_count": 18,
   "id": "0dba0775",
   "metadata": {},
   "outputs": [
    {
     "data": {
      "text/plain": [
       "Image(sub-06_task-flanker_run-2_bold, /home/francio/Desktop/MyFiles/NSSP_Mini1/dataset/ds000102/sub-06/func/sub-06_task-flanker_run-2_bold.nii.gz)"
      ]
     },
     "execution_count": 18,
     "metadata": {},
     "output_type": "execute_result"
    }
   ],
   "source": [
    "reset_overlays()\n",
    "load(op.join(bids_root, 'sub-06', 'func', epi1))"
   ]
  },
  {
   "cell_type": "markdown",
   "id": "cd089ce4",
   "metadata": {},
   "source": [
    "## Brain extraction"
   ]
  },
  {
   "cell_type": "code",
   "execution_count": 34,
   "id": "c79da320",
   "metadata": {},
   "outputs": [],
   "source": [
    "anatomical_path = op.join(bids_root, 'sub-06', 'anat', 'sub-06_T1w.nii.gz')\n",
    "betted_brain_path = op.join(preproc_root, 'sub-06', 'anat', 'sub-06_T1w')\n",
    "resulting_mask_path = op.join(preproc_root, 'sub-06', 'anat', 'sub-06_T1w_mask')\n",
    "#bet(anatomical_path, betted_brain_path, mask=resulting_mask_path)"
   ]
  },
  {
   "cell_type": "code",
   "execution_count": 23,
   "id": "44f3f3a6",
   "metadata": {},
   "outputs": [
    {
     "data": {
      "text/plain": [
       "Image(sub-06_T1w_mask, /home/francio/Desktop/MyFiles/NSSP_Mini1/dataset/ds000102/derivatives/preprocessed_data/sub-06/anat/sub-06_T1w_mask.nii.gz)"
      ]
     },
     "execution_count": 23,
     "metadata": {},
     "output_type": "execute_result"
    }
   ],
   "source": [
    "reset_overlays()\n",
    "load(op.join(bids_root, 'sub-06', 'anat', 'sub-06_T1w.nii.gz'))\n",
    "load(resulting_mask_path)"
   ]
  },
  {
   "cell_type": "code",
   "execution_count": 36,
   "id": "89afd534",
   "metadata": {},
   "outputs": [
    {
     "name": "stdout",
     "output_type": "stream",
     "text": [
      "essai avec fit = 0.0\n",
      "essai avec fit = 0.1\n",
      "essai avec fit = 0.2\n",
      "essai avec fit = 0.30000000000000004\n",
      "essai avec fit = 0.4\n",
      "essai avec fit = 0.5\n",
      "essai avec fit = 0.6000000000000001\n",
      "essai avec fit = 0.7000000000000001\n",
      "essai avec fit = 0.8\n",
      "essai avec fit = 0.9\n"
     ]
    }
   ],
   "source": [
    "for fit in [fit * 0.1 for fit in range(0, 10)]:\n",
    "    betted_brain_path = op.join(preproc_root, 'sub-06', 'anat', f'sub-06_T1w{fit}')\n",
    "    resulting_mask_path = op.join(preproc_root, 'sub-06', 'anat', f'sub-06_T1w_mask{fit}')\n",
    "    bet(anatomical_path, betted_brain_path, mask=resulting_mask_path,f=fit)"
   ]
  },
  {
   "cell_type": "code",
   "execution_count": 31,
   "id": "62a0a135",
   "metadata": {},
   "outputs": [
    {
     "data": {
      "text/plain": [
       "{}"
      ]
     },
     "execution_count": 31,
     "metadata": {},
     "output_type": "execute_result"
    }
   ],
   "source": []
  },
  {
   "cell_type": "code",
   "execution_count": 30,
   "id": "cc5a5ffc",
   "metadata": {},
   "outputs": [
    {
     "data": {
      "text/plain": [
       "Image(sub-06_T1w_mask, /home/francio/Desktop/MyFiles/NSSP_Mini1/dataset/ds000102/derivatives/preprocessed_data/sub-06/anat/sub-06_T1w_mask.nii.gz)"
      ]
     },
     "execution_count": 30,
     "metadata": {},
     "output_type": "execute_result"
    }
   ],
   "source": [
    "reset_overlays()\n",
    "load(op.join(bids_root, 'sub-06', 'anat', 'sub-06_T1w.nii.gz'))\n",
    "load(resulting_mask_path)"
   ]
  },
  {
   "cell_type": "code",
   "execution_count": null,
   "id": "99502847",
   "metadata": {},
   "outputs": [],
   "source": []
  }
 ],
 "metadata": {
  "kernelspec": {
   "display_name": "Python 3",
   "language": "python",
   "name": "python3"
  },
  "language_info": {
   "codemirror_mode": {
    "name": "ipython",
    "version": 3
   },
   "file_extension": ".py",
   "mimetype": "text/x-python",
   "name": "python",
   "nbconvert_exporter": "python",
   "pygments_lexer": "ipython3",
   "version": "3.9.18"
  }
 },
 "nbformat": 4,
 "nbformat_minor": 5
}
